{
 "cells": [
  {
   "cell_type": "markdown",
   "metadata": {},
   "source": [
    "# Java Jupyter notebook example\n",
    "You can write normal Java."
   ]
  },
  {
   "cell_type": "code",
   "execution_count": 1,
   "metadata": {
    "is_executing": true,
    "tags": []
   },
   "outputs": [
    {
     "data": {
      "text/plain": [
       "4"
      ]
     },
     "execution_count": 1,
     "metadata": {},
     "output_type": "execute_result"
    }
   ],
   "source": [
    "var result = 2 + 2;\n",
    "result"
   ]
  },
  {
   "cell_type": "code",
   "execution_count": 2,
   "metadata": {
    "tags": []
   },
   "outputs": [
    {
     "data": {
      "text/plain": [
       "Complex[a=11.0, b=21.0]"
      ]
     },
     "execution_count": 2,
     "metadata": {},
     "output_type": "execute_result"
    }
   ],
   "source": [
    "// including classes\n",
    "record Complex(double a, double b) {\n",
    "    public Complex add(Complex c) {\n",
    "        return new Complex(a+c.a, b+c.b);\n",
    "    }\n",
    "}\n",
    "Complex x = new Complex(10,20);\n",
    "x.add(new Complex(1,1))"
   ]
  },
  {
   "cell_type": "markdown",
   "metadata": {},
   "source": [
    "## Maven \n",
    "\n",
    "You can add dependencies using `%maven`"
   ]
  },
  {
   "cell_type": "code",
   "execution_count": 3,
   "metadata": {
    "tags": []
   },
   "outputs": [
    {
     "name": "stdout",
     "output_type": "stream",
     "text": [
      "Solving dependencies for \u001b[0m\u001b[1m\u001b[32mcom.github.javafaker:javafaker:1.0.2\u001b[0m\u001b[0m\n",
      "Found dependencies count: 5\n",
      "Add to classpath: \u001b[0m\u001b[32m/home/ati/work/rapaio-jupyter-kernel/target/ivy_cache/com.github.javafaker/javafaker/jars/javafaker-1.0.2.jar\u001b[0m\u001b[0m\n",
      "Add to classpath: \u001b[0m\u001b[32m/home/ati/work/rapaio-jupyter-kernel/target/ivy_cache/org.apache.commons/commons-lang3/jars/commons-lang3-3.5.jar\u001b[0m\u001b[0m\n",
      "Add to classpath: \u001b[0m\u001b[32m/home/ati/work/rapaio-jupyter-kernel/target/ivy_cache/org.yaml/snakeyaml/jars/snakeyaml-1.23-android.jar\u001b[0m\u001b[0m\n",
      "Add to classpath: \u001b[0m\u001b[32m/home/ati/work/rapaio-jupyter-kernel/target/ivy_cache/com.github.mifmif/generex/jars/generex-1.0.2.jar\u001b[0m\u001b[0m\n",
      "Add to classpath: \u001b[0m\u001b[32m/home/ati/work/rapaio-jupyter-kernel/target/ivy_cache/dk.brics.automaton/automaton/jars/automaton-1.11-8.jar\u001b[0m\u001b[0m\n"
     ]
    }
   ],
   "source": [
    "%maven com.github.javafaker:javafaker:1.0.2"
   ]
  },
  {
   "cell_type": "markdown",
   "metadata": {},
   "source": [
    "When added you can import and use the dependency."
   ]
  },
  {
   "cell_type": "code",
   "execution_count": 4,
   "metadata": {
    "tags": []
   },
   "outputs": [],
   "source": [
    "import com.github.javafaker.Faker;"
   ]
  },
  {
   "cell_type": "code",
   "execution_count": 5,
   "metadata": {
    "tags": []
   },
   "outputs": [
    {
     "data": {
      "text/plain": [
       "Herb Heaney"
      ]
     },
     "execution_count": 5,
     "metadata": {},
     "output_type": "execute_result"
    }
   ],
   "source": [
    "var faker = new Faker();\n",
    "faker.name().fullName()"
   ]
  },
  {
   "cell_type": "markdown",
   "metadata": {},
   "source": [
    "## Help on magic commands\n",
    "\n",
    "The magic `%help` provides more examples and guidance. "
   ]
  },
  {
   "cell_type": "code",
   "execution_count": 6,
   "metadata": {
    "tags": []
   },
   "outputs": [
    {
     "data": {
      "text/plain": [
       "\u001b[0m\u001b[1m\u001b[34mInformation about registered magic handlers.\n",
       "\u001b[0m\u001b[0m\n",
       "\u001b[0m\u001b[1m\u001b[34mJShell commands\u001b[0m\u001b[0m\n",
       "\u001b[0m\u001b[1mDocumentation:\n",
       "\u001b[0m    Magic handler which runs command against JShell REPL and displays the results.\n",
       "    Not all JShell commands are implemented, since some of them does not make sense with notebooks (for example edit cell is handled simply by editing the corresponding code cell and run).\n",
       "\u001b[0m\u001b[1mSyntax:\n",
       "\u001b[0m    \u001b[0m\u001b[1m\u001b[32m%jshell /methods\u001b[0m\n",
       "    List all active methods.\n",
       "    \u001b[0m\u001b[1m\u001b[32m%jshell /vars\u001b[0m\n",
       "    List all active variables, with type and value.\n",
       "    \u001b[0m\u001b[1m\u001b[32m%jshell /imports\u001b[0m\n",
       "    List all active import statements.\n",
       "    \u001b[0m\u001b[1m\u001b[32m%jshell /types\u001b[0m\n",
       "    List all active types: classes, interfaces, enums and annotations.\n",
       "    \u001b[0m\u001b[1m\u001b[32m%jshell /list -all\u001b[0m\n",
       "    List all code snippets, either active, inactive or erroneous.\n",
       "    \u001b[0m\u001b[1m\u001b[32m%jshell /list [id]\u001b[0m\n",
       "    List snippet with the given id.\n",
       "    \u001b[0m\u001b[1m\u001b[32m%jshell /list\u001b[0m\n",
       "    List all active code snippets.\n",
       "\n",
       "\u001b[0m\u001b[1m\u001b[34mmaven coordinate\u001b[0m\u001b[0m\n",
       "\u001b[0m\u001b[1mDocumentation:\n",
       "\u001b[0m    Find and resolve a maven dependency using the standard maven coordinates: group_id, artifact_id and version id.\n",
       "    The maven public repositories are searched for dependencies. Additionally, any maven transitive dependency declared with magic handlers are included in classpath.\n",
       "\u001b[0m\u001b[1mSyntax:\n",
       "\u001b[0m    \u001b[0m\u001b[1m\u001b[32m%maven group_id:artifact_id:version\u001b[0m\n",
       "    \n",
       "\n",
       "\u001b[0m\u001b[1m\u001b[34mJar magic handler\u001b[0m\u001b[0m\n",
       "\u001b[0m\u001b[1mDocumentation:\n",
       "\u001b[0m    Jar magic handler allows adding to the current classpath a local jar file or all the jar files from a given directory.\n",
       "\u001b[0m\u001b[1mSyntax:\n",
       "\u001b[0m    \u001b[0m\u001b[1m\u001b[32m%jar path_to_jar_or_folder_of_jars\u001b[0m\n",
       "    Adds to the classpath a jar or all jar archives from a directory\n",
       "    \u001b[0m\u001b[1m\u001b[32m%%jars\u001b[0m\n",
       "    \u001b[0m\u001b[1m\u001b[32mjar_file_or_folder_1\u001b[0m\n",
       "    \u001b[0m\u001b[1m\u001b[32m[jar_file_or_folder_2]\u001b[0m\n",
       "    \u001b[0m\u001b[1m\u001b[32m...\u001b[0m\n",
       "    \u001b[0m\u001b[1m\u001b[32m[jar_file_or_folder_n]\u001b[0m\n",
       "    Adds to classpath all referenced jars or all jar files from referenced directories.\n",
       "\n",
       "\u001b[0m\u001b[1m\u001b[34mLoad\u001b[0m\u001b[0m\n",
       "\u001b[0m\u001b[1mDocumentation:\n",
       "\u001b[0m    Loads and executes a local jshell script file or a jupyter notebook for java language.\n",
       "\u001b[0m\u001b[1mSyntax:\n",
       "\u001b[0m    \u001b[0m\u001b[1m\u001b[32m%load path_to_script_or_notebook\u001b[0m\n",
       "    \n",
       "\n",
       "\u001b[0m\u001b[1m\u001b[34mImage\u001b[0m\u001b[0m\n",
       "\u001b[0m\u001b[1mDocumentation:\n",
       "\u001b[0m    Displays an image from a file or URL.\n",
       "\u001b[0m\u001b[1mSyntax:\n",
       "\u001b[0m    \u001b[0m\u001b[1m\u001b[32m%image path_to_file_or_url\u001b[0m\n",
       "    Display an image from a local file or from an URL\n",
       "\n",
       "\u001b[0m\u001b[1m\u001b[34mClasspath\u001b[0m\u001b[0m\n",
       "\u001b[0m\u001b[1mDocumentation:\n",
       "\u001b[0m    Magic handler which allows one to add to classpath directories with compiled code.\n",
       "\u001b[0m\u001b[1mSyntax:\n",
       "\u001b[0m    \u001b[0m\u001b[1m\u001b[32m%classpath path_to_folder_with_classes\u001b[0m\n",
       "    Adds to classpath folder which contains class files\n",
       "\n",
       "\u001b[0m\u001b[1m\u001b[34mBash\u001b[0m\u001b[0m\n",
       "\u001b[0m\u001b[1mDocumentation:\n",
       "\u001b[0m    Executes command line in a bash shell.\n",
       "\u001b[0m\u001b[1mSyntax:\n",
       "\u001b[0m    \u001b[0m\u001b[1m\u001b[32m%%bash\u001b[0m\n",
       "    \u001b[0m\u001b[1m\u001b[32mbash script\u001b[0m\n",
       "    Executes the following lines in a terminal.\n",
       "\n",
       "\u001b[0m\u001b[1m\u001b[34mHelp\u001b[0m\u001b[0m\n",
       "\u001b[0m\u001b[1mDocumentation:\n",
       "\u001b[0m    Magic which displays help for all the magic tools.\n",
       "\u001b[0m\u001b[1mSyntax:\n",
       "\u001b[0m    \u001b[0m\u001b[1m\u001b[32m%help\u001b[0m\n",
       "    Display help for all magic handlers.\n"
      ]
     },
     "execution_count": 6,
     "metadata": {},
     "output_type": "execute_result"
    }
   ],
   "source": [
    "%help"
   ]
  },
  {
   "cell_type": "markdown",
   "metadata": {},
   "source": [
    "## Display an image\n",
    "\n",
    "Magic for displaying an image from an URL or a local file."
   ]
  },
  {
   "cell_type": "code",
   "execution_count": 2,
   "metadata": {
    "tags": []
   },
   "outputs": [
    {
     "data": {
      "image/png": "[encoded data removed]"
     },
     "execution_count": 2,
     "metadata": {
      "image/png": "{\"width\":256,\"height\":228}"
     },
     "output_type": "execute_result"
    }
   ],
   "source": [
    "%image https://raw.githubusercontent.com/padreati/rapaio/master/docs/logo/logo-medium.png"
   ]
  },
  {
   "cell_type": "markdown",
   "metadata": {
    "tags": []
   },
   "source": [
    "## JShell commands\n",
    "\n",
    "Some JShell commands are implemented. For example you can inspect which variables are defined"
   ]
  },
  {
   "cell_type": "code",
   "execution_count": 8,
   "metadata": {
    "tags": []
   },
   "outputs": [
    {
     "data": {
      "text/plain": [
       "\u001b[0m|    \u001b[1mint \u001b[32mresult\u001b[0m = \u001b[0m4\n",
       "\u001b[0m\u001b[0m|    \u001b[1mComplex \u001b[32mx\u001b[0m = \u001b[0mComplex[a=10.0, b=20.0]\n",
       "\u001b[0m\u001b[0m|    \u001b[1mComplex \u001b[32m$1\u001b[0m = \u001b[0mComplex[a=11.0, b=21.0]\n",
       "\u001b[0m\u001b[0m|    \u001b[1mFaker \u001b[32mfaker\u001b[0m = \u001b[0mcom.github.javafaker.Faker@60e33ce3\n",
       "\u001b[0m\u001b[0m|    \u001b[1mString \u001b[32m$2\u001b[0m = \u001b[0m\"Herb Heaney\"\n",
       "\u001b[0m"
      ]
     },
     "execution_count": 8,
     "metadata": {},
     "output_type": "execute_result"
    }
   ],
   "source": [
    "%jshell /vars"
   ]
  },
  {
   "cell_type": "markdown",
   "metadata": {
    "tags": []
   },
   "source": [
    "or the types you defined in this session"
   ]
  },
  {
   "cell_type": "code",
   "execution_count": 9,
   "metadata": {
    "tags": []
   },
   "outputs": [
    {
     "data": {
      "text/plain": [
       "\u001b[0m\u001b[0m\u001b[1;30m|    record Complex\u001b[0m\u001b[0m\n"
      ]
     },
     "execution_count": 9,
     "metadata": {},
     "output_type": "execute_result"
    }
   ],
   "source": [
    "%jshell /types"
   ]
  },
  {
   "cell_type": "markdown",
   "metadata": {
    "tags": []
   },
   "source": [
    "## Execute bash commands\n",
    "You can execute bash scripting commands. Here we display the java version number."
   ]
  },
  {
   "cell_type": "code",
   "execution_count": 10,
   "metadata": {
    "tags": []
   },
   "outputs": [
    {
     "name": "stdout",
     "output_type": "stream",
     "text": [
      "openjdk 20.0.1 2023-04-18\n",
      "OpenJDK Runtime Environment Corretto-20.0.1.9.1 (build 20.0.1+9-FR)\n",
      "OpenJDK 64-Bit Server VM Corretto-20.0.1.9.1 (build 20.0.1+9-FR, mixed mode, sharing)\n"
     ]
    }
   ],
   "source": [
    "%%bash\n",
    "java --version"
   ]
  },
  {
   "cell_type": "markdown",
   "metadata": {
    "tags": []
   },
   "source": [
    "You can even define variables. In fact all the lines below cell magic marker are executed as a bash script."
   ]
  },
  {
   "cell_type": "code",
   "execution_count": 11,
   "metadata": {
    "tags": []
   },
   "outputs": [
    {
     "name": "stdout",
     "output_type": "stream",
     "text": [
      "Hello John\n"
     ]
    }
   ],
   "source": [
    "%%bash\n",
    "name=\"John\"\n",
    "echo \"Hello $name\""
   ]
  },
  {
   "cell_type": "markdown",
   "metadata": {},
   "source": [
    "## Display data\n",
    "\n",
    "You can display data. For example we display a markdown snippet and we direct the output interpretation of the snippet through MIME type."
   ]
  },
  {
   "cell_type": "code",
   "execution_count": 15,
   "metadata": {
    "tags": []
   },
   "outputs": [
    {
     "data": {
      "text/html": [
       "Html <i>test</i> <b>snippet</b>:<p><ulist><li>bullet 1</li><li>bullet 2</li></ulist></p>"
      ]
     },
     "metadata": {},
     "output_type": "display_data"
    }
   ],
   "source": [
    "String id = display(\"text/markdown\", \"Markdown *test* **snippet**:\\n* bullet 1\\n* bullet 2\")"
   ]
  },
  {
   "cell_type": "markdown",
   "metadata": {
    "tags": []
   },
   "source": [
    "Notice that we captured the id of the display. This id can be used to update the same display with a different content. For example we can update the content of that display with a html snippet, using the MIME type for interpretation."
   ]
  },
  {
   "cell_type": "code",
   "execution_count": 16,
   "metadata": {
    "tags": []
   },
   "outputs": [],
   "source": [
    "updateDisplay(id, \"text/html\", \n",
    "              \"Html <i>test</i> <b>snippet</b>:<p><ulist><li>bullet 1</li><li>bullet 2</li></ulist></p>\")"
   ]
  },
  {
   "cell_type": "markdown",
   "metadata": {},
   "source": [
    "Hope you enjoy it. Please cut issues for any bad behavior or new feature proposal."
   ]
  },
  {
   "cell_type": "code",
   "execution_count": null,
   "metadata": {},
   "outputs": [],
   "source": []
  }
 ],
 "metadata": {
  "kernelspec": {
   "display_name": "Rapaio Kernel",
   "language": "java",
   "name": "rapaio-jupyter-kernel"
  },
  "language_info": {
   "codemirror_mode": "java",
   "file_extension": ".jshell",
   "mimetype": "text/x-java-source",
   "name": "java",
   "nbconvert_exporter": "script",
   "pygments_lexer": "java",
   "version": "20.0.1+9-FR"
  }
 },
 "nbformat": 4,
 "nbformat_minor": 4
}
